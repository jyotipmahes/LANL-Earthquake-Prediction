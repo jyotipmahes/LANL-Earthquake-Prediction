{
 "cells": [
  {
   "cell_type": "code",
   "execution_count": 1,
   "metadata": {
    "ExecuteTime": {
     "end_time": "2019-02-13T06:20:10.128365Z",
     "start_time": "2019-02-13T06:20:10.123491Z"
    }
   },
   "outputs": [],
   "source": [
    "from pyspark import SparkContext, SparkConf\n",
    "from pyspark.sql import SparkSession\n",
    "from pyspark.sql import SQLContext\n",
    "from pyspark.sql import Row\n",
    "from pyspark.sql.types import *\n",
    "from pyspark.sql.functions import abs, avg \n",
    "\n",
    "from pyspark.ml.feature import VectorAssembler\n",
    "from pyspark.ml.regression import LinearRegression\n",
    "from pyspark.ml.regression import DecisionTreeRegressor\n",
    "from pyspark.ml.regression import RandomForestRegressor\n",
    "\n",
    "from pyspark.ml.evaluation import RegressionEvaluator\n",
    "\n",
    "# n-fold validation and the results.\n",
    "from pyspark.ml.tuning import CrossValidator\n",
    "from pyspark.ml.tuning import ParamGridBuilder\n"
   ]
  },
  {
   "cell_type": "code",
   "execution_count": null,
   "metadata": {},
   "outputs": [],
   "source": [
    "# spark.conf.set(\"spark.executor.memory\", \"2g\")"
   ]
  },
  {
   "cell_type": "code",
   "execution_count": 2,
   "metadata": {},
   "outputs": [
    {
     "name": "stderr",
     "output_type": "stream",
     "text": [
      "UsageError: Cell magic `%%configure` not found.\n"
     ]
    }
   ],
   "source": [
    "%%configure -f\n",
    "{\"driverMemory\": \"4G\", \"executorCores\": 4, \"executorMemory\": \"4G\"}"
   ]
  },
  {
   "cell_type": "code",
   "execution_count": 2,
   "metadata": {
    "ExecuteTime": {
     "end_time": "2019-02-13T06:20:10.790649Z",
     "start_time": "2019-02-13T06:20:10.765749Z"
    }
   },
   "outputs": [],
   "source": [
    "import numpy as np\n",
    "import pandas as pd\n",
    "import os\n",
    "# from scipy.signal import hilbert, hann, convolve\n",
    "# import scipy.stats as stats\n",
    "\n",
    "pyspark_submit_args = '--packages org.mongodb.spark:mongo-spark-connector_2.11:2.4.0 pyspark-shell'\n",
    "os.environ[\"PYSPARK_SUBMIT_ARGS\"] = pyspark_submit_args\n",
    "from pyspark.sql import SparkSession\n",
    "\n",
    "spark = SparkSession \\\n",
    " .builder \\\n",
    " .appName(\"myApp\") \\\n",
    " .config(\"spark.mongodb.input.uri\", \"mongodb://3.17.193.180/project.features2\")\\\n",
    " .config(\"spark.mongodb.output.uri\", \"mongodb://3.17.193.180/project.features2\")\\\n",
    " .getOrCreate()\n",
    "df = spark.read.format(\"com.mongodb.spark.sql.DefaultSource\").load()\n"
   ]
  },
  {
   "cell_type": "code",
   "execution_count": 3,
   "metadata": {
    "ExecuteTime": {
     "end_time": "2019-01-18T19:38:50.429208Z",
     "start_time": "2019-01-18T19:38:50.409403Z"
    }
   },
   "outputs": [],
   "source": [
    "# 1000         !! only run one per time, 1st\n",
    "df_train, df_test = df.drop('_id','index').randomSplit([0.8,0.2])\n",
    "\n",
    "## 5000           !! second \n",
    "# df_train, df_test = df.filter(df.index%5==0).drop('_id','index').randomSplit([0.8,0.2])\n",
    "\n",
    "### 10000          !! third\n",
    "# df_train, df_test = df.filter(df.index%10==0).drop('_id','index').randomSplit([0.8,0.2])"
   ]
  },
  {
   "cell_type": "code",
   "execution_count": 4,
   "metadata": {
    "ExecuteTime": {
     "end_time": "2019-02-11T05:51:21.622901Z",
     "start_time": "2019-02-11T05:51:21.619950Z"
    }
   },
   "outputs": [
    {
     "name": "stdout",
     "output_type": "stream",
     "text": [
      "+-----------------+-----------------+-----------------------+-------+-------+---------+-----------------+-----------------+-----------------+-----------------+------------------+-----------------+-----------------+-----------------+---------------------+---------+---+-----------------+-----------------+-----+---------------+---------------+--------------+--------------+-----------------+------------------+------------------+-----------------+---------------+-----------------+-----------------+-----------------+----------------------------+----------------------------+---------------------------+---------------------------+---+------+---------------+---------------+--------------+--------------+------------------+------------------+-----------------+------+------------------+------------------+-----------------+------------------+-----------------+------------------+---+---+---+---+---+---+----+----+------------------+------------------+------------------+----+------------------+-----------------+----------------+-----------------+-------------------+------------------+-----------------+------------------+-----------------+-----------------+------------------+------------------+------------------+--------+------------------+\n",
      "| Hann_window_mean|     Hilbert_mean|Moving_average_700_mean|abs_max|abs_min|  abs_sum|            ave10|  ave_roll_std_10| ave_roll_std_100|ave_roll_std_1000|   avg_first_10000|  avg_first_50000|   avg_last_10000|   avg_last_50000|classic_sta_lta5_mean|count_big|iqr|             kurt|              mad| max1|max_first_10000|max_first_50000|max_last_10000|max_last_50000|  max_roll_std_10|  max_roll_std_100| max_roll_std_1000|       max_to_min|max_to_min_diff|             mean|  mean_change_abs| mean_change_rate|mean_change_rate_first_10000|mean_change_rate_first_50000|mean_change_rate_last_10000|mean_change_rate_last_50000|med|  min1|min_first_10000|min_first_50000|min_last_10000|min_last_50000|   min_roll_std_10|  min_roll_std_100|min_roll_std_1000|  q001|   q01_roll_std_10|  q01_roll_std_100|q01_roll_std_1000|   q05_roll_std_10| q05_roll_std_100| q05_roll_std_1000|q60|q65|q70|q75|q80|q85| q90| q95|   q95_roll_std_10|  q95_roll_std_100| q95_roll_std_1000| q99|              q999|  q99_roll_std_10|q99_roll_std_100|q99_roll_std_1000|               skew|               std|  std_first_10000|   std_first_50000|   std_last_10000|   std_last_50000|   std_roll_std_10|  std_roll_std_100| std_roll_std_1000|    sum1|          y_target|\n",
      "+-----------------+-----------------+-----------------------+-------+-------+---------+-----------------+-----------------+-----------------+-----------------+------------------+-----------------+-----------------+-----------------+---------------------+---------+---+-----------------+-----------------+-----+---------------+---------------+--------------+--------------+-----------------+------------------+------------------+-----------------+---------------+-----------------+-----------------+-----------------+----------------------------+----------------------------+---------------------------+---------------------------+---+------+---------------+---------------+--------------+--------------+------------------+------------------+-----------------+------+------------------+------------------+-----------------+------------------+-----------------+------------------+---+---+---+---+---+---+----+----+------------------+------------------+------------------+----+------------------+-----------------+----------------+-----------------+-------------------+------------------+-----------------+------------------+-----------------+-----------------+------------------+------------------+------------------+--------+------------------+\n",
      "|4.298489575306418|9.759545794738377|      4.298329788241778|  478.0|    0.0|1051262.0|4.295949935913087|5.121579456107335|6.670544207372767|7.486051199108182|4.2733001708984375|4.303959846496582|4.235499858856201|4.465360164642334|   1.0475724421699746|      0.0|5.0|201.3347930908203|5.385143756866455|410.0|           44.0|           56.0|          40.0|         129.0|308.8546763627046|217.62358824726726|133.21703861885828|0.857740581035614|          -68.0|4.299106597900392|3.113193988800049|75015.83611261343|           5006.854535147392|          24995.442924859948|           5005.93257661748|           24911.5336028183|4.0|-478.0|          -29.0|          -46.0|         -35.0|         -77.0|0.5163977794863365|1.8976593770016537|2.562507647878648|-152.0|1.3374935098492586|2.3845250252347743|2.657363464144769|1.7288403306388371|2.576094452123733|2.7718069763071047|5.0|6.0|6.0|7.0|8.0|9.0|10.0|14.0|12.527303514057795|16.305576291006414|17.929954217963004|34.0|168.00099999998932|38.30156630540592|69.4436360356986|90.15527621736747|-0.7066782712936401|15.166643142700195|4.652355194091797|4.8452792167663565|4.680410385131836|7.072753429412843|10.277253458744909|13.672043588829725|13.249624745967633|644866.0|1.0126991271972656|\n",
      "+-----------------+-----------------+-----------------------+-------+-------+---------+-----------------+-----------------+-----------------+-----------------+------------------+-----------------+-----------------+-----------------+---------------------+---------+---+-----------------+-----------------+-----+---------------+---------------+--------------+--------------+-----------------+------------------+------------------+-----------------+---------------+-----------------+-----------------+-----------------+----------------------------+----------------------------+---------------------------+---------------------------+---+------+---------------+---------------+--------------+--------------+------------------+------------------+-----------------+------+------------------+------------------+-----------------+------------------+-----------------+------------------+---+---+---+---+---+---+----+----+------------------+------------------+------------------+----+------------------+-----------------+----------------+-----------------+-------------------+------------------+-----------------+------------------+-----------------+-----------------+------------------+------------------+------------------+--------+------------------+\n",
      "only showing top 1 row\n",
      "\n"
     ]
    }
   ],
   "source": [
    "df_train.show(1)\n",
    "# df_train.count()"
   ]
  },
  {
   "cell_type": "code",
   "execution_count": 5,
   "metadata": {
    "ExecuteTime": {
     "end_time": "2019-01-18T19:38:51.314510Z",
     "start_time": "2019-01-18T19:38:51.307804Z"
    }
   },
   "outputs": [],
   "source": [
    "feature_names = df_train.columns[0:-1]\n",
    "# feature_names"
   ]
  },
  {
   "cell_type": "markdown",
   "metadata": {},
   "source": [
    "## VectorAssemble features to build df for modeling"
   ]
  },
  {
   "cell_type": "code",
   "execution_count": 6,
   "metadata": {
    "ExecuteTime": {
     "end_time": "2019-01-18T20:35:03.702931Z",
     "start_time": "2019-01-18T20:35:03.454520Z"
    }
   },
   "outputs": [],
   "source": [
    "va = VectorAssembler(outputCol=\"features\", inputCols=df_train.columns[0:-1])\n",
    "df_train = va.transform(df_train).select(\"features\", \"y_target\").persist()\n",
    "df_test = va.transform(df_test).select(\"features\", \"y_target\").persist()\n"
   ]
  },
  {
   "cell_type": "markdown",
   "metadata": {},
   "source": [
    "## Set one evaluator for all algrithms, metric: RMSE on validation set"
   ]
  },
  {
   "cell_type": "code",
   "execution_count": 7,
   "metadata": {
    "ExecuteTime": {
     "end_time": "2019-01-18T20:35:06.194903Z",
     "start_time": "2019-01-18T20:35:06.181232Z"
    }
   },
   "outputs": [],
   "source": [
    "evaluator=RegressionEvaluator(labelCol=\"y_target\",predictionCol=\"prediction\", metricName=\"rmse\")\n"
   ]
  },
  {
   "cell_type": "markdown",
   "metadata": {},
   "source": [
    "## linear regression"
   ]
  },
  {
   "cell_type": "code",
   "execution_count": 8,
   "metadata": {
    "ExecuteTime": {
     "end_time": "2019-01-18T20:35:08.308734Z",
     "start_time": "2019-01-18T20:35:08.296457Z"
    }
   },
   "outputs": [],
   "source": [
    "lr = LinearRegression(featuresCol = 'features', labelCol='y_target',\n",
    "                      maxIter=1, regParam=0.3, elasticNetParam=0.8)  # tune later"
   ]
  },
  {
   "cell_type": "code",
   "execution_count": null,
   "metadata": {
    "ExecuteTime": {
     "end_time": "2019-01-18T20:35:40.318449Z",
     "start_time": "2019-01-18T20:35:08.845360Z"
    }
   },
   "outputs": [],
   "source": [
    "lrModel = lr.fit(df_test)\n"
   ]
  },
  {
   "cell_type": "code",
   "execution_count": 55,
   "metadata": {
    "ExecuteTime": {
     "end_time": "2019-01-18T20:28:20.830599Z",
     "start_time": "2019-01-18T20:28:20.811598Z"
    }
   },
   "outputs": [
    {
     "data": {
      "text/plain": [
       "[('intercept', 24.9215),\n",
       " ('q80', -3.2064),\n",
       " ('mean', 1.8754),\n",
       " ('q85', -0.9219),\n",
       " ('avg_last_50000', 0.9087),\n",
       " ('q75', -0.6713),\n",
       " ('q90', -0.6122),\n",
       " ('avg_first_50000', 0.5092),\n",
       " ('count_big', 0.0084),\n",
       " ('std_first_50000', 0.0072),\n",
       " ('std_last_50000', -0.0016),\n",
       " ('max_last_10000', -0.0012),\n",
       " ('min_last_10000', 0.0008),\n",
       " ('max_first_50000', 0.0002),\n",
       " ('min_first_50000', -0.0002),\n",
       " ('min_last_50000', 0.0002),\n",
       " ('max1', 0.0001)]"
      ]
     },
     "execution_count": 55,
     "metadata": {},
     "output_type": "execute_result"
    }
   ],
   "source": [
    "# feature_names x coeffecients\n",
    "beta0 = [('intercept',round(lrModel.intercept,4))]\n",
    "beta1 = [(x[0],round(x[1],4)) for x in zip(feature_names,lrModel.coefficients) if abs(x[1])>0.001]\n",
    "beta1.sort(key = lambda x: abs(x[1]),reverse=True)\n",
    "beta0+beta1"
   ]
  },
  {
   "cell_type": "code",
   "execution_count": 27,
   "metadata": {
    "ExecuteTime": {
     "end_time": "2019-02-11T02:08:40.243231Z",
     "start_time": "2019-02-11T02:08:39.845932Z"
    }
   },
   "outputs": [
    {
     "name": "stdout",
     "output_type": "stream",
     "text": [
      "linear model RMSE = 2.7556\n",
      "linear model adjusted R square = 0.5728\n",
      "linear model RMSE on test set = 2.7546\n",
      "linear model MAPE on test set = 323.93%\n"
     ]
    }
   ],
   "source": [
    "# model performance on training data\n",
    "lr_summary = lrModel.summary\n",
    "lr_RMSE = lr_summary.rootMeanSquaredError\n",
    "lr_R_2_adj = lr_summary.r2adj\n",
    "print(\"linear model RMSE on train set = \"+ '{:.4f}'.format(lr_RMSE))\n",
    "print(\"linear model adjusted R square on train set = \"+ '{:.4f}'.format(lr_R_2_adj))\n",
    "\n",
    "# model performance on valid/test set\n",
    "lr_preds = lrModel.transform(df_test)\n",
    "lr_preds= lr_preds.withColumn('abs_error', abs(lr_preds.prediction-lr_preds.y_target))\\\n",
    "    .withColumn('APE', abs((lr_preds.prediction-lr_preds.y_target)/lr_preds.y_target))\n",
    "\n",
    "lr_RMSE_test = evaluator.evaluate(lr_preds)\n",
    "lr_MAPE_test = lr_preds.agg(avg('APE')).collect()[0][0]\n",
    "\n",
    "print(\"linear model RMSE on test set = \"+ '{:.4f}'.format(lr_RMSE_test))\n",
    "print(\"linear model MAPE on test set = \"+ '{:.2%}'.format(lr_MAPE_test))"
   ]
  },
  {
   "cell_type": "code",
   "execution_count": 28,
   "metadata": {
    "ExecuteTime": {
     "end_time": "2019-02-11T02:08:43.356051Z",
     "start_time": "2019-02-11T02:08:42.697154Z"
    }
   },
   "outputs": [
    {
     "name": "stdout",
     "output_type": "stream",
     "text": [
      "linear model MAPE of prediction on signal within 1s before an actual fail = 2394.58%\n",
      "linear model MAPE of prediction on signal 1~5s before an actual fail = 99.76%\n",
      "linear model MAPE of prediction on signal 5~10s before an actual fail = 13.05%\n",
      "linear model MAPE of prediction on signal over 10s before an actual fail = 16.23%\n"
     ]
    }
   ],
   "source": [
    "print(\"linear model MAPE of prediction on signal within 1s before an actual fail = \"\\\n",
    "      + '{:.2%}'.format(lr_preds.filter(lr_preds.y_target<=1).agg(avg('APE')).collect()[0][0]))\n",
    "print(\"linear model MAPE of prediction on signal 1~5s before an actual fail = \"\\\n",
    "      + '{:.2%}'.format(lr_preds.filter(lr_preds.y_target>1).filter(lr_preds.y_target<=5).agg(avg('APE')).collect()[0][0]))\n",
    "print(\"linear model MAPE of prediction on signal 5~10s before an actual fail = \"\\\n",
    "      + '{:.2%}'.format(lr_preds.filter(lr_preds.y_target>5).filter(lr_preds.y_target<=10).agg(avg('APE')).collect()[0][0]))\n",
    "print(\"linear model MAPE of prediction on signal over 10s before an actual fail = \"\\\n",
    "      + '{:.2%}'.format(lr_preds.filter(lr_preds.y_target>10).agg(avg('APE')).collect()[0][0]))\n"
   ]
  },
  {
   "cell_type": "markdown",
   "metadata": {},
   "source": [
    "### grid search for linear reg"
   ]
  },
  {
   "cell_type": "code",
   "execution_count": 55,
   "metadata": {
    "ExecuteTime": {
     "end_time": "2019-01-18T00:16:58.292267Z",
     "start_time": "2019-01-18T00:04:31.020015Z"
    }
   },
   "outputs": [],
   "source": [
    "#nfold cv\n",
    "lr_cv = CrossValidator().setEstimator(lr).setEvaluator(evaluator).setNumFolds(5) # set\n",
    "#ParamGridBuilder() – combinations of parameters and their values.\n",
    "\n",
    "lr_paramGrid = ParamGridBuilder()\\\n",
    "    .addGrid(lr.regParam, [ x*0.01 for x in range(0,50,5)]) \\\n",
    "    .addGrid(lr.elasticNetParam, [ x*0.01 for x in range(0,100,5)])\\\n",
    "    .addGrid(lr.maxIter,[10,15,20,30,50])\\\n",
    "    .addGrid(lr.standardization, [True,False])\n",
    "    .build()\n",
    "#narrow down the hyper-para's range after first search \n",
    "\n",
    "lr_cv.setEstimatorParamMaps(lr_paramGrid)\n",
    "lr_cvmodel = cv.fit(df_train)\n"
   ]
  },
  {
   "cell_type": "code",
   "execution_count": 71,
   "metadata": {
    "ExecuteTime": {
     "end_time": "2019-01-18T00:30:05.119810Z",
     "start_time": "2019-01-18T00:30:05.113824Z"
    }
   },
   "outputs": [
    {
     "data": {
      "text/plain": [
       "(0.0, 10, 0.0)"
      ]
     },
     "execution_count": 71,
     "metadata": {},
     "output_type": "execute_result"
    }
   ],
   "source": [
    "lr_cvmodel.bestModel._java_obj.getElasticNetParam(),\\\n",
    "lr_cvmodel.bestModel._java_obj.getMaxIter(),\\\n",
    "lr_cvmodel.bestModel._java_obj.getElasticNetParam(),\\\n",
    "lr_cvmodel.bestModel._java_obj.getStandardization()\n",
    "# to narrow down the grid search range, repeate the step above"
   ]
  },
  {
   "cell_type": "code",
   "execution_count": 68,
   "metadata": {
    "ExecuteTime": {
     "end_time": "2019-01-18T00:24:54.910575Z",
     "start_time": "2019-01-18T00:24:54.864930Z"
    }
   },
   "outputs": [
    {
     "data": {
      "text/plain": [
       "0.6185593083463993"
      ]
     },
     "execution_count": 68,
     "metadata": {},
     "output_type": "execute_result"
    }
   ],
   "source": [
    "lr_grid_test_rmse = evaluator.evaluate(lr_cvmodel.bestModel.transform(df_test))\n",
    "lr_grid_test_rmse"
   ]
  },
  {
   "cell_type": "code",
   "execution_count": null,
   "metadata": {},
   "outputs": [],
   "source": []
  },
  {
   "cell_type": "markdown",
   "metadata": {},
   "source": [
    "## DecisionTree Regression"
   ]
  },
  {
   "cell_type": "code",
   "execution_count": 29,
   "metadata": {
    "ExecuteTime": {
     "end_time": "2019-02-11T02:08:49.062418Z",
     "start_time": "2019-02-11T02:08:47.868319Z"
    }
   },
   "outputs": [],
   "source": [
    "## DT-reg\n",
    "dt_reg = DecisionTreeRegressor(featuresCol = 'features', labelCol='y_target') # default hyper paras\n",
    "dt_regModel = dt_reg.fit(df_train)\n"
   ]
  },
  {
   "cell_type": "code",
   "execution_count": 30,
   "metadata": {
    "ExecuteTime": {
     "end_time": "2019-02-11T02:08:49.503454Z",
     "start_time": "2019-02-11T02:08:49.476091Z"
    }
   },
   "outputs": [
    {
     "data": {
      "text/plain": [
       "[('q05_roll_std_10', 0.7377),\n",
       " ('q05_roll_std_100', 0.0628),\n",
       " ('skew', 0.0258),\n",
       " ('Moving_average_700_mean', 0.0235),\n",
       " ('Hilbert_mean', 0.0217),\n",
       " ('avg_first_50000', 0.0174),\n",
       " ('classic_sta_lta5_mean', 0.0169),\n",
       " ('q01_roll_std_100', 0.0146),\n",
       " ('avg_first_10000', 0.0132),\n",
       " ('q95_roll_std_1000', 0.0111),\n",
       " ('Hann_window_mean', 0.0087),\n",
       " ('q90', 0.0084),\n",
       " ('abs_max', 0.0067),\n",
       " ('q05_roll_std_1000', 0.0067),\n",
       " ('min_roll_std_10', 0.0066),\n",
       " ('mean_change_rate_last_50000', 0.0061),\n",
       " ('max_first_10000', 0.004),\n",
       " ('q01_roll_std_10', 0.0039),\n",
       " ('min_roll_std_1000', 0.0039)]"
      ]
     },
     "execution_count": 30,
     "metadata": {},
     "output_type": "execute_result"
    }
   ],
   "source": [
    "# Feature Importances:\n",
    "dt_reg_feature_importance = list(zip([feature_names[i] for i in dt_regModel.featureImportances.indices],\\\n",
    "                                dt_regModel.featureImportances.values))\n",
    "dt_reg_feature_importance.sort(key = lambda x: np.abs(x[1]),reverse=True)\n",
    "[(x[0],np.round(x[1],4))for x in dt_reg_feature_importance]\n"
   ]
  },
  {
   "cell_type": "code",
   "execution_count": 31,
   "metadata": {
    "ExecuteTime": {
     "end_time": "2019-02-11T02:08:51.942761Z",
     "start_time": "2019-02-11T02:08:51.680608Z"
    }
   },
   "outputs": [
    {
     "name": "stdout",
     "output_type": "stream",
     "text": [
      "DT model RMSE on train set = 1.7689\n",
      "DT model MAPE on train set = 362.45%\n"
     ]
    }
   ],
   "source": [
    "# model performance on training data\n",
    "dt_yhats = dt_regModel.transform(df_train)\n",
    "dt_yhats= dt_yhats.withColumn('abs_error', abs(dt_yhats.prediction-dt_yhats.y_target))\\\n",
    "    .withColumn('APE', abs((dt_yhats.prediction-dt_yhats.y_target)/dt_yhats.y_target))\n",
    "\n",
    "dt_MAPE_train = dt_yhats.agg(avg('APE')).collect()[0][0]\n",
    "\n",
    "dt_RMSE_train = evaluator.evaluate(dt_yhats)\n",
    "print(\"DT model RMSE on train set = \"+ '{:.4f}'.format(dt_RMSE_train))\n",
    "print(\"DT model MAPE on train set = \"+ '{:.2%}'.format(dt_MAPE_train))\n"
   ]
  },
  {
   "cell_type": "code",
   "execution_count": 32,
   "metadata": {
    "ExecuteTime": {
     "end_time": "2019-02-11T02:08:55.532145Z",
     "start_time": "2019-02-11T02:08:55.307204Z"
    }
   },
   "outputs": [
    {
     "name": "stdout",
     "output_type": "stream",
     "text": [
      "DT model RMSE on test set = 2.8725\n",
      "DT model MAPE on test set = 313.30%\n"
     ]
    }
   ],
   "source": [
    "# model performance on valid/test set\n",
    "dt_preds = dt_regModel.transform(df_test)\n",
    "\n",
    "dt_preds= dt_preds.withColumn('abs_error', abs(dt_preds.prediction-dt_preds.y_target))\\\n",
    "    .withColumn('APE', abs((dt_preds.prediction-dt_preds.y_target)/dt_preds.y_target))\n",
    "\n",
    "dt_MAPE_test = dt_preds.agg(avg('APE')).collect()[0][0]\n",
    "dt_RMSE_test = evaluator.evaluate(dt_preds)\n",
    "\n",
    "print(\"DT model RMSE on test set = \"+ '{:.4f}'.format(dt_RMSE_test))\n",
    "print(\"DT model MAPE on test set = \"+ '{:.2%}'.format(dt_MAPE_test))\n"
   ]
  },
  {
   "cell_type": "code",
   "execution_count": 33,
   "metadata": {
    "ExecuteTime": {
     "end_time": "2019-02-11T02:08:59.290779Z",
     "start_time": "2019-02-11T02:08:58.834502Z"
    }
   },
   "outputs": [
    {
     "name": "stdout",
     "output_type": "stream",
     "text": [
      "DT model MAPE of prediction on signal within 1s before an actual fail = 2317.56%\n",
      "DT model MAPE of prediction on signal 1~5s before an actual fail = 89.72%\n",
      "DT model MAPE of prediction on signal 5~10s before an actual fail = 21.61%\n",
      "DT model MAPE of prediction on signal over 10s before an actual fail = 11.99%\n"
     ]
    }
   ],
   "source": [
    "# model performance on valid/test set per group\n",
    "\n",
    "print(\"DT model MAPE of prediction on signal within 1s before an actual fail = \"\\\n",
    "      + '{:.2%}'.format(dt_preds.filter(dt_preds.y_target<=1).agg(avg('APE')).collect()[0][0]))\n",
    "print(\"DT model MAPE of prediction on signal 1~5s before an actual fail = \"\\\n",
    "      + '{:.2%}'.format(dt_preds.filter(dt_preds.y_target>1).filter(dt_preds.y_target<=5).agg(avg('APE')).collect()[0][0]))\n",
    "print(\"DT model MAPE of prediction on signal 5~10s before an actual fail = \"\\\n",
    "      + '{:.2%}'.format(dt_preds.filter(dt_preds.y_target>5).filter(dt_preds.y_target<=10).agg(avg('APE')).collect()[0][0]))\n",
    "print(\"DT model MAPE of prediction on signal over 10s before an actual fail = \"\\\n",
    "      + '{:.2%}'.format(dt_preds.filter(dt_preds.y_target>10).agg(avg('APE')).collect()[0][0]))\n"
   ]
  },
  {
   "cell_type": "code",
   "execution_count": null,
   "metadata": {},
   "outputs": [],
   "source": []
  },
  {
   "cell_type": "code",
   "execution_count": null,
   "metadata": {},
   "outputs": [],
   "source": [
    "# tuning Gridsearch cv ..."
   ]
  },
  {
   "cell_type": "code",
   "execution_count": 80,
   "metadata": {
    "ExecuteTime": {
     "end_time": "2019-01-18T01:09:54.112725Z",
     "start_time": "2019-01-18T01:09:54.108610Z"
    }
   },
   "outputs": [],
   "source": [
    "cv = CrossValidator().setEstimator(dt_reg).setEvaluator(evaluator).setNumFolds(5) # set"
   ]
  },
  {
   "cell_type": "code",
   "execution_count": 114,
   "metadata": {
    "ExecuteTime": {
     "end_time": "2019-01-18T01:56:56.191478Z",
     "start_time": "2019-01-18T01:56:56.162400Z"
    }
   },
   "outputs": [],
   "source": [
    "dt_reg_paramGrid = ParamGridBuilder()\\\n",
    "    .addGrid(dt_reg.maxBins, [2**x for x in range(1,7)]) \\\n",
    "    .addGrid(dt_reg.maxDepth, list(range(5,31,5)))\\\n",
    "    .addGrid(dt_reg.minInfoGain,[0.1,1.0,10.0,15.0,20.0,30.0,50.0])\\\n",
    "    .addGrid(dt_reg.minInstancesPerNode, [5,10,20,30,50,100])\\\n",
    "    .build()\n",
    "             "
   ]
  },
  {
   "cell_type": "code",
   "execution_count": 4,
   "metadata": {
    "ExecuteTime": {
     "end_time": "2019-01-18T02:24:16.322584Z",
     "start_time": "2019-01-18T02:24:16.319240Z"
    }
   },
   "outputs": [],
   "source": [
    "cv.setEstimatorParamMaps(dt_reg_paramGrid)\n",
    "dt_reg_cvmodel = cv.fit(df_train)\n"
   ]
  },
  {
   "cell_type": "code",
   "execution_count": 116,
   "metadata": {
    "ExecuteTime": {
     "end_time": "2019-01-18T02:07:32.188733Z",
     "start_time": "2019-01-18T02:07:32.172412Z"
    }
   },
   "outputs": [
    {
     "ename": "NameError",
     "evalue": "name 'dt_reg_cvmodel' is not defined",
     "output_type": "error",
     "traceback": [
      "\u001b[0;31m---------------------------------------------------------------------------\u001b[0m",
      "\u001b[0;31mNameError\u001b[0m                                 Traceback (most recent call last)",
      "\u001b[0;32m<ipython-input-116-de82b57971c8>\u001b[0m in \u001b[0;36m<module>\u001b[0;34m()\u001b[0m\n\u001b[0;32m----> 1\u001b[0;31m \u001b[0mdt_reg_cvmodel\u001b[0m\u001b[0;34m.\u001b[0m\u001b[0mbestModel\u001b[0m\u001b[0;34m.\u001b[0m\u001b[0m_java_obj\u001b[0m\u001b[0;34m.\u001b[0m\u001b[0mgetMaxBins\u001b[0m\u001b[0;34m(\u001b[0m\u001b[0;34m)\u001b[0m\u001b[0;34m,\u001b[0m\u001b[0mdt_reg_cvmodel\u001b[0m\u001b[0;34m.\u001b[0m\u001b[0mbestModel\u001b[0m\u001b[0;34m.\u001b[0m\u001b[0m_java_obj\u001b[0m\u001b[0;34m.\u001b[0m\u001b[0mgetMaxDepth\u001b[0m\u001b[0;34m(\u001b[0m\u001b[0;34m)\u001b[0m\u001b[0;34m,\u001b[0m\u001b[0mdt_reg_cvmodel\u001b[0m\u001b[0;34m.\u001b[0m\u001b[0mbestModel\u001b[0m\u001b[0;34m.\u001b[0m\u001b[0m_java_obj\u001b[0m\u001b[0;34m.\u001b[0m\u001b[0mgetMinInfoGain\u001b[0m\u001b[0;34m(\u001b[0m\u001b[0;34m)\u001b[0m\u001b[0;34m,\u001b[0m\u001b[0mdt_reg_cvmodel\u001b[0m\u001b[0;34m.\u001b[0m\u001b[0mbestModel\u001b[0m\u001b[0;34m.\u001b[0m\u001b[0m_java_obj\u001b[0m\u001b[0;34m.\u001b[0m\u001b[0mgetMinInstancesPerNode\u001b[0m\u001b[0;34m(\u001b[0m\u001b[0;34m)\u001b[0m\u001b[0;34m\u001b[0m\u001b[0m\n\u001b[0m\u001b[1;32m      2\u001b[0m \u001b[0;31m# to narrow down the grid search range, repeate the step above\u001b[0m\u001b[0;34m\u001b[0m\u001b[0;34m\u001b[0m\u001b[0m\n",
      "\u001b[0;31mNameError\u001b[0m: name 'dt_reg_cvmodel' is not defined"
     ]
    }
   ],
   "source": [
    "dt_reg_cvmodel.bestModel._java_obj.getMaxBins(),\\\n",
    "dt_reg_cvmodel.bestModel._java_obj.getMaxDepth(),\\\n",
    "dt_reg_cvmodel.bestModel._java_obj.getMinInfoGain(),\\\n",
    "dt_reg_cvmodel.bestModel._java_obj.getMinInstancesPerNode()\n",
    "# to narrow down the grid search range, repeate the step above"
   ]
  },
  {
   "cell_type": "code",
   "execution_count": null,
   "metadata": {},
   "outputs": [],
   "source": [
    "dt_reg_grid_test_rmse = evaluator.evaluate(dt_reg_cvmodel.bestModel.transform(df_test))\n",
    "dt_reg_grid_test_rmse "
   ]
  },
  {
   "cell_type": "code",
   "execution_count": null,
   "metadata": {},
   "outputs": [],
   "source": []
  },
  {
   "cell_type": "markdown",
   "metadata": {},
   "source": [
    "## RandomForest Regression"
   ]
  },
  {
   "cell_type": "code",
   "execution_count": 34,
   "metadata": {
    "ExecuteTime": {
     "end_time": "2019-02-11T02:09:38.042150Z",
     "start_time": "2019-02-11T02:09:36.864169Z"
    }
   },
   "outputs": [],
   "source": [
    "rf_reg = RandomForestRegressor(featuresCol = 'features', labelCol='y_target')\n",
    "rf_regModel = rf_reg.fit(df_train)\n"
   ]
  },
  {
   "cell_type": "code",
   "execution_count": 35,
   "metadata": {
    "ExecuteTime": {
     "end_time": "2019-02-11T02:09:38.078457Z",
     "start_time": "2019-02-11T02:09:38.044489Z"
    }
   },
   "outputs": [
    {
     "data": {
      "text/plain": [
       "[('q05_roll_std_10', 0.2453),\n",
       " ('q05_roll_std_100', 0.1909),\n",
       " ('q01_roll_std_10', 0.1372),\n",
       " ('q01_roll_std_100', 0.1184),\n",
       " ('ave_roll_std_100', 0.0447),\n",
       " ('q05_roll_std_1000', 0.039),\n",
       " ('Hann_window_mean', 0.0145),\n",
       " ('ave_roll_std_10', 0.0115),\n",
       " ('q95_roll_std_10', 0.0103),\n",
       " ('ave10', 0.0088),\n",
       " ('mean_change_rate_last_50000', 0.0086),\n",
       " ('avg_first_10000', 0.0073),\n",
       " ('min_roll_std_10', 0.0071),\n",
       " ('avg_first_50000', 0.0069),\n",
       " ('min_roll_std_100', 0.0065),\n",
       " ('abs_max', 0.0062),\n",
       " ('min_roll_std_1000', 0.0059),\n",
       " ('max_roll_std_1000', 0.0054),\n",
       " ('Moving_average_700_mean', 0.0051),\n",
       " ('mean', 0.0048),\n",
       " ('max_to_min_diff', 0.0047),\n",
       " ('max_first_10000', 0.0044),\n",
       " ('min_first_10000', 0.0043),\n",
       " ('q01_roll_std_1000', 0.0042),\n",
       " ('mean_change_rate_first_10000', 0.0041),\n",
       " ('q80', 0.0039),\n",
       " ('max_to_min', 0.0039),\n",
       " ('ave_roll_std_1000', 0.0037),\n",
       " ('std_last_50000', 0.0036),\n",
       " ('q999', 0.0034),\n",
       " ('skew', 0.0033),\n",
       " ('max1', 0.0033),\n",
       " ('abs_sum', 0.0032),\n",
       " ('mean_change_rate', 0.0032),\n",
       " ('Hilbert_mean', 0.0031),\n",
       " ('min_last_10000', 0.003),\n",
       " ('min_first_50000', 0.0029),\n",
       " ('kurt', 0.0029),\n",
       " ('sum1', 0.0028),\n",
       " ('min_last_50000', 0.0027),\n",
       " ('std_roll_std_100', 0.0026),\n",
       " ('q001', 0.0026),\n",
       " ('mad', 0.0026),\n",
       " ('classic_sta_lta5_mean', 0.0021),\n",
       " ('max_last_10000', 0.0021),\n",
       " ('std_last_10000', 0.002),\n",
       " ('q95_roll_std_100', 0.002),\n",
       " ('avg_last_50000', 0.002),\n",
       " ('mean_change_rate_last_10000', 0.002),\n",
       " ('min1', 0.002),\n",
       " ('std_roll_std_1000', 0.002),\n",
       " ('max_roll_std_100', 0.002),\n",
       " ('q90', 0.0019),\n",
       " ('q99_roll_std_1000', 0.0019),\n",
       " ('mean_change_rate_first_50000', 0.0018),\n",
       " ('q95_roll_std_1000', 0.0016),\n",
       " ('std_first_50000', 0.0015),\n",
       " ('q85', 0.0015),\n",
       " ('q99_roll_std_100', 0.0013),\n",
       " ('q99_roll_std_10', 0.0013),\n",
       " ('max_last_50000', 0.0012),\n",
       " ('max_first_50000', 0.0008),\n",
       " ('mean_change_abs', 0.0007),\n",
       " ('std_roll_std_10', 0.0007),\n",
       " ('max_roll_std_10', 0.0006),\n",
       " ('q99', 0.0006),\n",
       " ('q95', 0.0006),\n",
       " ('avg_last_10000', 0.0005),\n",
       " ('std_first_10000', 0.0004),\n",
       " ('std', 0.0004),\n",
       " ('q60', 0.0),\n",
       " ('iqr', 0.0)]"
      ]
     },
     "execution_count": 35,
     "metadata": {},
     "output_type": "execute_result"
    }
   ],
   "source": [
    "rf_reg_feature_importance = list(zip([feature_names[i] for i in rf_regModel.featureImportances.indices],\\\n",
    "                                rf_regModel.featureImportances.values))\n",
    "rf_reg_feature_importance.sort(key = lambda x: np.abs(x[1]),reverse=True)\n",
    "[(x[0],np.round(x[1],4)) for x in rf_reg_feature_importance if x[1]>0.001]\n"
   ]
  },
  {
   "cell_type": "code",
   "execution_count": 37,
   "metadata": {
    "ExecuteTime": {
     "end_time": "2019-02-11T02:10:05.307216Z",
     "start_time": "2019-02-11T02:10:05.096511Z"
    }
   },
   "outputs": [
    {
     "name": "stdout",
     "output_type": "stream",
     "text": [
      "RF model MAPE on train set = 842.64%\n",
      "RF model RMSE on train set = 1.6356\n"
     ]
    }
   ],
   "source": [
    "# model performance on training set\n",
    "\n",
    "rf_yhats = rf_regModel.transform(df_train)\n",
    "rf_yhats= rf_yhats.withColumn('abs_error', abs(rf_yhats.prediction-rf_yhats.y_target))\\\n",
    "    .withColumn('APE', abs((rf_yhats.prediction-rf_yhats.y_target)/rf_yhats.y_target))\n",
    "\n",
    "rf_MAPE_train = rf_yhats.agg(avg('APE')).collect()[0][0]\n",
    "\n",
    "print(\"RF model MAPE on train set = \"+ '{:.2%}'.format(rf_MAPE_train))\n",
    "\n",
    "rf_RMSE_train = evaluator.evaluate(rf_yhats)\n",
    "print(\"RF model RMSE on train set = \"+ '{:.4f}'.format(rf_RMSE_train))"
   ]
  },
  {
   "cell_type": "code",
   "execution_count": 38,
   "metadata": {
    "ExecuteTime": {
     "end_time": "2019-02-11T02:10:07.883152Z",
     "start_time": "2019-02-11T02:10:07.632826Z"
    }
   },
   "outputs": [
    {
     "name": "stdout",
     "output_type": "stream",
     "text": [
      "RF model RMSE on test set = 2.6725\n",
      "RF model MAPE on test set = 309.00%\n"
     ]
    }
   ],
   "source": [
    "# model performance on valid/test set\n",
    "rf_preds = rf_regModel.transform(df_test)\n",
    "rf_preds= rf_preds.withColumn('abs_error', abs(rf_preds.prediction-rf_preds.y_target))\\\n",
    "    .withColumn('APE', abs((rf_preds.prediction-rf_preds.y_target)/rf_preds.y_target))\n",
    "\n",
    "rf_MAPE_test = rf_preds.agg(avg('APE')).collect()[0][0]\n",
    "\n",
    "rf_RMSE_test = evaluator.evaluate(rf_preds)\n",
    "\n",
    "print(\"RF model RMSE on test set = \"+ '{:.4f}'.format(rf_RMSE_test))\n",
    "print(\"RF model MAPE on test set = \"+ '{:.2%}'.format(rf_MAPE_test))\n"
   ]
  },
  {
   "cell_type": "code",
   "execution_count": 39,
   "metadata": {
    "ExecuteTime": {
     "end_time": "2019-02-11T02:10:13.382597Z",
     "start_time": "2019-02-11T02:10:12.965566Z"
    }
   },
   "outputs": [
    {
     "name": "stdout",
     "output_type": "stream",
     "text": [
      "RF model MAPE of prediction on signal within 1s before an actual fail = 2312.60%\n",
      "RF model MAPE of prediction on signal 1~5s before an actual fail = 76.82%\n",
      "RF model MAPE of prediction on signal 5~10s before an actual fail = 17.52%\n",
      "RF model MAPE of prediction on signal over 10s before an actual fail = 14.99%\n"
     ]
    }
   ],
   "source": [
    "# model performance on valid/test set per group\n",
    "\n",
    "print(\"RF model MAPE of prediction on signal within 1s before an actual fail = \"\\\n",
    "      + '{:.2%}'.format(rf_preds.filter(rf_preds.y_target<=1).agg(avg('APE')).collect()[0][0]))\n",
    "print(\"RF model MAPE of prediction on signal 1~5s before an actual fail = \"\\\n",
    "      + '{:.2%}'.format(rf_preds.filter(rf_preds.y_target>1).filter(rf_preds.y_target<=5).agg(avg('APE')).collect()[0][0]))\n",
    "print(\"RF model MAPE of prediction on signal 5~10s before an actual fail = \"\\\n",
    "      + '{:.2%}'.format(rf_preds.filter(rf_preds.y_target>5).filter(rf_preds.y_target<=10).agg(avg('APE')).collect()[0][0]))\n",
    "print(\"RF model MAPE of prediction on signal over 10s before an actual fail = \"\\\n",
    "      + '{:.2%}'.format(rf_preds.filter(rf_preds.y_target>10).agg(avg('APE')).collect()[0][0]))\n"
   ]
  },
  {
   "cell_type": "markdown",
   "metadata": {},
   "source": [
    "### grid search for linear reg"
   ]
  },
  {
   "cell_type": "code",
   "execution_count": 117,
   "metadata": {
    "ExecuteTime": {
     "end_time": "2019-01-18T02:14:12.501147Z",
     "start_time": "2019-01-18T02:14:12.497278Z"
    }
   },
   "outputs": [],
   "source": [
    "cv = CrossValidator().setEstimator(rf_reg).setEvaluator(evaluator).setNumFolds(5) # set"
   ]
  },
  {
   "cell_type": "code",
   "execution_count": 118,
   "metadata": {
    "ExecuteTime": {
     "end_time": "2019-01-18T02:14:13.657310Z",
     "start_time": "2019-01-18T02:14:13.605390Z"
    }
   },
   "outputs": [],
   "source": [
    "rf_reg_paramGrid = ParamGridBuilder()\\\n",
    "    .addGrid(rf_reg.maxBins, [2**x for x in range(1,7)]) \\\n",
    "    .addGrid(rf_reg.maxDepth, list(range(5,31,5)))\\\n",
    "    .addGrid(rf_reg.minInfoGain,[0.1,1.0,10.0,15.0,20.0,30.0,50.0])\\\n",
    "    .addGrid(rf_reg.minInstancesPerNode, [5,10,20,30,50,100])\\\n",
    "    .addGrid(rf_reg.subsamplingRate,[0.2,0.5,0.8,1.0])\\\n",
    "    .build()\n",
    "             "
   ]
  },
  {
   "cell_type": "code",
   "execution_count": 121,
   "metadata": {
    "ExecuteTime": {
     "end_time": "2019-01-18T02:15:01.064186Z",
     "start_time": "2019-01-18T02:15:01.061074Z"
    }
   },
   "outputs": [],
   "source": [
    "cv.setEstimatorParamMaps(rf_reg_paramGrid)\n",
    "rf_reg_cvmodel = cv.fit(df_train)\n"
   ]
  },
  {
   "cell_type": "code",
   "execution_count": null,
   "metadata": {
    "ExecuteTime": {
     "end_time": "2019-01-18T02:14:54.344421Z",
     "start_time": "2019-01-18T02:14:26.337Z"
    }
   },
   "outputs": [],
   "source": [
    "dt_reg_cvmodel.bestModel._java_obj.getMaxBins(),\\\n",
    "dt_reg_cvmodel.bestModel._java_obj.getMaxDepth(),\\\n",
    "dt_reg_cvmodel.bestModel._java_obj.getMinInfoGain(),\\\n",
    "dt_reg_cvmodel.bestModel._java_obj.getMinInstancesPerNode(),\\\n",
    "dt_reg_cvmodel.bestModel._java_obj.getSubsamplingRate()\n",
    "# to narrow down the grid search range, repeate the step above"
   ]
  },
  {
   "cell_type": "code",
   "execution_count": null,
   "metadata": {},
   "outputs": [],
   "source": [
    "# grid-search best model performance on valid/test set\n",
    "rf_grid_preds = rf_reg_cvmodel.bestModel.transform(df_test)\n",
    "\n",
    "rf_reg_grid_test_rmse = evaluator.evaluate(rf_grid_preds)\n",
    "print(\"grid search best RF model RMSE on test set = \"+ '{:.4f}'.format(rf_reg_grid_test_rmse))\n",
    "\n",
    "rf_grid_preds= rf_grid_preds.withColumn('abs_error', abs(rf_grid_preds.prediction-rf_grid_preds.y_target))\\\n",
    "    .withColumn('APE', abs((rf_grid_preds.prediction-rf_grid_preds.y_target)/rf_grid_preds.y_target))\n",
    "\n",
    "rf_grid_MAPE_test = rf_grid_preds.agg(avg('APE')).collect()[0][0]\n",
    "print(\"grid search best RF model MAPE on test set = \"+ '{:.2%}'.format(rf_grid_MAPE_test))\n"
   ]
  },
  {
   "cell_type": "code",
   "execution_count": null,
   "metadata": {},
   "outputs": [],
   "source": [
    "# model performance on valid/test set per group\n",
    "\n",
    "print(\"RF model MAPE of prediction on signal within 1s before an actual fail = \"\\\n",
    "      + '{:.2%}'.format(rf_grid_preds.filter(rf_grid_preds.y_target<=1).agg(avg('APE')).collect()[0][0]))\n",
    "print(\"RF model MAPE of prediction on signal 1~5s before an actual fail = \"\\\n",
    "      + '{:.2%}'.format(rf_grid_preds.filter(rf_grid_preds.y_target>1).filter(rf_grid_preds.y_target<=5).agg(avg('APE')).collect()[0][0]))\n",
    "print(\"RF model MAPE of prediction on signal 5~10s before an actual fail = \"\\\n",
    "      + '{:.2%}'.format(rf_grid_preds.filter(rf_grid_preds.y_target>5).filter(rf_grid_preds.y_target<=10).agg(avg('APE')).collect()[0][0]))\n",
    "print(\"RF model MAPE of prediction on signal over 10s before an actual fail = \"\\\n",
    "      + '{:.2%}'.format(rf_grid_preds.filter(rf_grid_preds.y_target>10).agg(avg('APE')).collect()[0][0]))\n"
   ]
  },
  {
   "cell_type": "code",
   "execution_count": null,
   "metadata": {},
   "outputs": [],
   "source": [
    "#predict\n",
    "# dt_reg_cvmodel.bestModel.transform(#actual test dataset#)"
   ]
  },
  {
   "cell_type": "code",
   "execution_count": null,
   "metadata": {},
   "outputs": [],
   "source": []
  },
  {
   "cell_type": "code",
   "execution_count": null,
   "metadata": {},
   "outputs": [],
   "source": []
  },
  {
   "cell_type": "code",
   "execution_count": null,
   "metadata": {},
   "outputs": [],
   "source": []
  },
  {
   "cell_type": "code",
   "execution_count": null,
   "metadata": {},
   "outputs": [],
   "source": []
  }
 ],
 "metadata": {
  "kernelspec": {
   "display_name": "Python 3",
   "language": "python",
   "name": "python3"
  },
  "language_info": {
   "codemirror_mode": {
    "name": "ipython",
    "version": 3
   },
   "file_extension": ".py",
   "mimetype": "text/x-python",
   "name": "python",
   "nbconvert_exporter": "python",
   "pygments_lexer": "ipython3",
   "version": "3.6.8"
  }
 },
 "nbformat": 4,
 "nbformat_minor": 2
}
